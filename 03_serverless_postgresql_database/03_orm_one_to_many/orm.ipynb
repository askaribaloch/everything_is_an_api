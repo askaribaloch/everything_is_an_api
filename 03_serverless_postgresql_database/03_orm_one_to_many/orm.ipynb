{
 "cells": [
  {
   "cell_type": "markdown",
   "metadata": {},
   "source": [
    "# ORM: One-to-Many Relationships with SQLAlchemy\n",
    "\n",
    "https://docs.sqlalchemy.org/en/20/orm/quickstart.html \n",
    "\n",
    "[Watch Video Tutorial](https://www.youtube.com/watch?v=wvQJzMrKy9E)\n",
    "\n",
    "https://github.com/jod35/OnetoMany-SQLALCHEMY2.0/blob/main/README.md\n"
   ]
  },
  {
   "cell_type": "code",
   "execution_count": 32,
   "metadata": {},
   "outputs": [],
   "source": [
    "from dotenv import load_dotenv, find_dotenv\n",
    "import os\n",
    "\n",
    "_ :bool = load_dotenv(find_dotenv())\n",
    "\n",
    "conn_str = os.environ.get('neon_db_con_str')"
   ]
  },
  {
   "cell_type": "code",
   "execution_count": 33,
   "metadata": {},
   "outputs": [
    {
     "data": {
      "text/plain": [
       "'\\ntable programs\\n    - id int pk\\n    - name str\\n    - years_of_study\\n\\ntable courses\\n    - id int pk\\n    - title\\n    - code\\n    - program_id => fk => programs.id\\n'"
      ]
     },
     "execution_count": 33,
     "metadata": {},
     "output_type": "execute_result"
    }
   ],
   "source": [
    "from sqlalchemy.orm import DeclarativeBase, Mapped, mapped_column, relationship\n",
    "from sqlalchemy import ForeignKey\n",
    "\n",
    "\"\"\"\n",
    "table programs\n",
    "    - id int pk\n",
    "    - name str\n",
    "    - years_of_study\n",
    "\n",
    "table courses\n",
    "    - id int pk\n",
    "    - title\n",
    "    - code\n",
    "    - program_id => fk => programs.id\n",
    "\"\"\""
   ]
  },
  {
   "cell_type": "markdown",
   "metadata": {},
   "source": [
    "### Create Model"
   ]
  },
  {
   "cell_type": "code",
   "execution_count": 34,
   "metadata": {},
   "outputs": [],
   "source": [
    "class Base(DeclarativeBase):\n",
    "    pass\n",
    "\n",
    "\n",
    "class Program(Base):\n",
    "    __tablename__ = 'programs'\n",
    "    id:Mapped[int] = mapped_column(primary_key=True)\n",
    "    name:Mapped[str] = mapped_column(nullable=False)\n",
    "    years_of_study:Mapped[int] = mapped_column(nullable=False)\n",
    "    courses:Mapped[list['Course']] = relationship(backref='program',passive_deletes=True)\n",
    "\n",
    "    def __repr__(self) -> str:\n",
    "        return f\"<Program {self.name}>\""
   ]
  },
  {
   "cell_type": "code",
   "execution_count": 35,
   "metadata": {},
   "outputs": [],
   "source": [
    "class Course(Base):\n",
    "    __tablename__ = 'courses'\n",
    "    id:Mapped[int] = mapped_column(primary_key=True)\n",
    "    title:Mapped[str] = mapped_column(nullable=False)\n",
    "    code:Mapped[str] = mapped_column(nullable=False)\n",
    "    program_id:Mapped[int] = mapped_column(ForeignKey('programs.id',ondelete='CASCADE'))\n",
    "\n",
    "    def __repr__(self) -> str:\n",
    "        return f\"<Course {self.title}>\""
   ]
  },
  {
   "cell_type": "markdown",
   "metadata": {},
   "source": [
    "### Connect and Create Engine and Session"
   ]
  },
  {
   "cell_type": "code",
   "execution_count": 36,
   "metadata": {},
   "outputs": [],
   "source": [
    "from sqlalchemy import create_engine, text\n",
    "from sqlalchemy.orm import sessionmaker\n",
    "from sqlalchemy.engine.base import Engine\n",
    "from sqlalchemy.orm.session import Session\n",
    "\n",
    "\n",
    "engine: Engine = create_engine(\n",
    "    conn_str,\n",
    "    echo= True\n",
    ")\n",
    "\n",
    "\n",
    "Session = sessionmaker(bind=engine)\n",
    "\n",
    "db: Session = Session()\n"
   ]
  },
  {
   "cell_type": "markdown",
   "metadata": {},
   "source": [
    "### Create Database"
   ]
  },
  {
   "cell_type": "code",
   "execution_count": 37,
   "metadata": {},
   "outputs": [
    {
     "name": "stdout",
     "output_type": "stream",
     "text": [
      "2024-06-10 17:58:17,589 INFO sqlalchemy.engine.Engine select pg_catalog.version()\n",
      "2024-06-10 17:58:17,589 INFO sqlalchemy.engine.Engine [raw sql] {}\n",
      "2024-06-10 17:58:18,216 INFO sqlalchemy.engine.Engine select current_schema()\n",
      "2024-06-10 17:58:18,217 INFO sqlalchemy.engine.Engine [raw sql] {}\n",
      "2024-06-10 17:58:18,843 INFO sqlalchemy.engine.Engine show standard_conforming_strings\n",
      "2024-06-10 17:58:18,844 INFO sqlalchemy.engine.Engine [raw sql] {}\n",
      "2024-06-10 17:58:19,470 INFO sqlalchemy.engine.Engine BEGIN (implicit)\n",
      "2024-06-10 17:58:19,472 INFO sqlalchemy.engine.Engine SELECT pg_catalog.pg_class.relname \n",
      "FROM pg_catalog.pg_class JOIN pg_catalog.pg_namespace ON pg_catalog.pg_namespace.oid = pg_catalog.pg_class.relnamespace \n",
      "WHERE pg_catalog.pg_class.relname = %(table_name)s AND pg_catalog.pg_class.relkind = ANY (ARRAY[%(param_1)s, %(param_2)s, %(param_3)s, %(param_4)s, %(param_5)s]) AND pg_catalog.pg_table_is_visible(pg_catalog.pg_class.oid) AND pg_catalog.pg_namespace.nspname != %(nspname_1)s\n",
      "2024-06-10 17:58:19,473 INFO sqlalchemy.engine.Engine [generated in 0.00086s] {'table_name': 'programs', 'param_1': 'r', 'param_2': 'p', 'param_3': 'f', 'param_4': 'v', 'param_5': 'm', 'nspname_1': 'pg_catalog'}\n",
      "2024-06-10 17:58:20,099 INFO sqlalchemy.engine.Engine SELECT pg_catalog.pg_class.relname \n",
      "FROM pg_catalog.pg_class JOIN pg_catalog.pg_namespace ON pg_catalog.pg_namespace.oid = pg_catalog.pg_class.relnamespace \n",
      "WHERE pg_catalog.pg_class.relname = %(table_name)s AND pg_catalog.pg_class.relkind = ANY (ARRAY[%(param_1)s, %(param_2)s, %(param_3)s, %(param_4)s, %(param_5)s]) AND pg_catalog.pg_table_is_visible(pg_catalog.pg_class.oid) AND pg_catalog.pg_namespace.nspname != %(nspname_1)s\n",
      "2024-06-10 17:58:20,100 INFO sqlalchemy.engine.Engine [cached since 0.628s ago] {'table_name': 'courses', 'param_1': 'r', 'param_2': 'p', 'param_3': 'f', 'param_4': 'v', 'param_5': 'm', 'nspname_1': 'pg_catalog'}\n",
      "2024-06-10 17:58:20,414 INFO sqlalchemy.engine.Engine \n",
      "CREATE TABLE programs (\n",
      "\tid SERIAL NOT NULL, \n",
      "\tname VARCHAR NOT NULL, \n",
      "\tyears_of_study INTEGER NOT NULL, \n",
      "\tPRIMARY KEY (id)\n",
      ")\n",
      "\n",
      "\n",
      "2024-06-10 17:58:20,415 INFO sqlalchemy.engine.Engine [no key 0.00110s] {}\n",
      "2024-06-10 17:58:20,736 INFO sqlalchemy.engine.Engine \n",
      "CREATE TABLE courses (\n",
      "\tid SERIAL NOT NULL, \n",
      "\ttitle VARCHAR NOT NULL, \n",
      "\tcode VARCHAR NOT NULL, \n",
      "\tprogram_id INTEGER NOT NULL, \n",
      "\tPRIMARY KEY (id), \n",
      "\tFOREIGN KEY(program_id) REFERENCES programs (id) ON DELETE CASCADE\n",
      ")\n",
      "\n",
      "\n",
      "2024-06-10 17:58:20,737 INFO sqlalchemy.engine.Engine [no key 0.00075s] {}\n",
      "2024-06-10 17:58:21,052 INFO sqlalchemy.engine.Engine COMMIT\n"
     ]
    }
   ],
   "source": [
    "Base.metadata.create_all(bind=engine)"
   ]
  },
  {
   "cell_type": "markdown",
   "metadata": {},
   "source": [
    "### Populate Database"
   ]
  },
  {
   "cell_type": "code",
   "execution_count": 38,
   "metadata": {},
   "outputs": [
    {
     "name": "stdout",
     "output_type": "stream",
     "text": [
      "<Program Bachelors in CS>\n",
      "2024-06-10 17:58:26,878 INFO sqlalchemy.engine.Engine BEGIN (implicit)\n",
      "2024-06-10 17:58:26,880 INFO sqlalchemy.engine.Engine INSERT INTO programs (name, years_of_study) SELECT p0::VARCHAR, p1::INTEGER FROM (VALUES (%(name__0)s, %(years_of_study__0)s, 0), (%(name__1)s, %(years_of_study__1)s, 1)) AS imp_sen(p0, p1, sen_counter) ORDER BY sen_counter RETURNING programs.id, programs.id AS id__1\n",
      "2024-06-10 17:58:26,881 INFO sqlalchemy.engine.Engine [generated in 0.00010s (insertmanyvalues) 1/1 (ordered)] {'years_of_study__0': 3, 'name__0': 'Bachelors in CS', 'years_of_study__1': 3, 'name__1': 'Bachelors in Business'}\n",
      "2024-06-10 17:58:27,507 INFO sqlalchemy.engine.Engine COMMIT\n"
     ]
    }
   ],
   "source": [
    "program1 = Program(\n",
    "    name = \"Bachelors in CS\",\n",
    "    years_of_study =3\n",
    ")\n",
    "\n",
    "print(repr(program1))\n",
    "\n",
    "program2 = Program(\n",
    "    name = \"Bachelors in Business\",\n",
    "    years_of_study =3\n",
    ")\n",
    "\n",
    "# saving programs\n",
    "db.add_all(\n",
    "    [program1,program2]\n",
    ")\n",
    "\n",
    "db.commit()"
   ]
  },
  {
   "cell_type": "code",
   "execution_count": 40,
   "metadata": {},
   "outputs": [
    {
     "name": "stdout",
     "output_type": "stream",
     "text": [
      "2024-06-10 18:00:02,452 INFO sqlalchemy.engine.Engine BEGIN (implicit)\n",
      "2024-06-10 18:00:02,455 INFO sqlalchemy.engine.Engine SELECT programs.id AS programs_id, programs.name AS programs_name, programs.years_of_study AS programs_years_of_study \n",
      "FROM programs \n",
      "WHERE programs.id = %(pk_1)s\n",
      "2024-06-10 18:00:02,457 INFO sqlalchemy.engine.Engine [cached since 55.71s ago] {'pk_1': 1}\n",
      "2024-06-10 18:00:03,087 INFO sqlalchemy.engine.Engine SELECT courses.id AS courses_id, courses.title AS courses_title, courses.code AS courses_code, courses.program_id AS courses_program_id \n",
      "FROM courses \n",
      "WHERE %(param_1)s = courses.program_id\n",
      "2024-06-10 18:00:03,088 INFO sqlalchemy.engine.Engine [cached since 55.72s ago] {'param_1': 1}\n",
      "2024-06-10 18:00:03,407 INFO sqlalchemy.engine.Engine INSERT INTO courses (title, code, program_id) SELECT p0::VARCHAR, p1::VARCHAR, p2::INTEGER FROM (VALUES (%(title__0)s, %(code__0)s, %(program_id__0)s, 0), (%(title__1)s, %(code__1)s, %(program_id__1)s, 1), (%(title__2)s, %(code__2)s, %(program_id__2)s, 2)) AS imp_sen(p0, p1, p2, sen_counter) ORDER BY sen_counter RETURNING courses.id, courses.id AS id__1\n",
      "2024-06-10 18:00:03,409 INFO sqlalchemy.engine.Engine [cached since 55.72s ago (insertmanyvalues) 1/1 (ordered)] {'code__0': 'CS 107', 'program_id__0': 1, 'title__0': 'Database Admnistration', 'code__1': 'CS 104', 'program_id__1': 1, 'title__1': 'AI', 'code__2': 'CS 114', 'program_id__2': 1, 'title__2': 'GIS'}\n",
      "2024-06-10 18:00:03,723 INFO sqlalchemy.engine.Engine SELECT programs.id AS programs_id, programs.name AS programs_name, programs.years_of_study AS programs_years_of_study \n",
      "FROM programs \n",
      "WHERE programs.id = %(pk_1)s\n",
      "2024-06-10 18:00:03,724 INFO sqlalchemy.engine.Engine [cached since 56.98s ago] {'pk_1': 2}\n",
      "2024-06-10 18:00:04,039 INFO sqlalchemy.engine.Engine SELECT courses.id AS courses_id, courses.title AS courses_title, courses.code AS courses_code, courses.program_id AS courses_program_id \n",
      "FROM courses \n",
      "WHERE %(param_1)s = courses.program_id\n",
      "2024-06-10 18:00:04,040 INFO sqlalchemy.engine.Engine [cached since 56.67s ago] {'param_1': 2}\n",
      "2024-06-10 18:00:04,353 INFO sqlalchemy.engine.Engine INSERT INTO courses (title, code, program_id) VALUES (%(title)s, %(code)s, %(program_id)s) RETURNING courses.id\n",
      "2024-06-10 18:00:04,355 INFO sqlalchemy.engine.Engine [cached since 55.72s ago] {'title': 'Businnes Administration', 'code': 'BS 124', 'program_id': 2}\n",
      "2024-06-10 18:00:04,668 INFO sqlalchemy.engine.Engine COMMIT\n"
     ]
    }
   ],
   "source": [
    "#create course objects\n",
    "course1 = Course(\n",
    "    title =\"Database Admnistration\",\n",
    "    code = \"CS 107\"\n",
    ")\n",
    "\n",
    "\n",
    "course2 = Course(\n",
    "    title =\"AI\",\n",
    "    code = \"CS 104\"\n",
    ")\n",
    "\n",
    "\n",
    "course3 = Course(\n",
    "    title =\"GIS\",\n",
    "    code = \"CS 114\"\n",
    ")\n",
    "\n",
    "course4 = Course(\n",
    "    title =\"Businnes Administration\",\n",
    "    code = \"BS 124\"\n",
    ")\n",
    "\n",
    "\n",
    "# adding child object to parent\n",
    "program1.courses.append(course1)\n",
    "program1.courses.append(course2)\n",
    "program1.courses.append(course3)\n",
    "\n",
    "program2.courses.append(course4)\n",
    "\n",
    "db.commit()"
   ]
  },
  {
   "cell_type": "markdown",
   "metadata": {},
   "source": [
    "### Query Database"
   ]
  },
  {
   "cell_type": "code",
   "execution_count": 41,
   "metadata": {},
   "outputs": [
    {
     "name": "stdout",
     "output_type": "stream",
     "text": [
      "2024-06-10 18:00:52,951 INFO sqlalchemy.engine.Engine BEGIN (implicit)\n",
      "2024-06-10 18:00:52,954 INFO sqlalchemy.engine.Engine SELECT programs.id AS programs_id, programs.name AS programs_name, programs.years_of_study AS programs_years_of_study \n",
      "FROM programs \n",
      "WHERE programs.name = %(name_1)s \n",
      " LIMIT %(param_1)s\n",
      "2024-06-10 18:00:52,955 INFO sqlalchemy.engine.Engine [generated in 0.00143s] {'name_1': 'Bachelors in CS', 'param_1': 1}\n",
      "Bachelors in CS\n",
      "2024-06-10 18:00:53,583 INFO sqlalchemy.engine.Engine SELECT courses.id AS courses_id, courses.title AS courses_title, courses.code AS courses_code, courses.program_id AS courses_program_id \n",
      "FROM courses \n",
      "WHERE courses.title = %(title_1)s \n",
      " LIMIT %(param_1)s\n",
      "2024-06-10 18:00:53,584 INFO sqlalchemy.engine.Engine [generated in 0.00099s] {'title_1': 'AI', 'param_1': 1}\n",
      "AI\n"
     ]
    }
   ],
   "source": [
    "myprogram1: Program = db.query(Program).filter_by(name = \"Bachelors in CS\").first()\n",
    "print(myprogram1.name)\n",
    "\n",
    "mycourse3: Course = db.query(Course).filter_by(title='AI').first()\n",
    "print(mycourse3.title)"
   ]
  },
  {
   "cell_type": "markdown",
   "metadata": {},
   "source": [
    "### Delete Rows"
   ]
  },
  {
   "cell_type": "code",
   "execution_count": 42,
   "metadata": {},
   "outputs": [
    {
     "name": "stdout",
     "output_type": "stream",
     "text": [
      "2024-06-10 18:01:14,578 INFO sqlalchemy.engine.Engine DELETE FROM programs WHERE programs.id = %(id)s\n",
      "2024-06-10 18:01:14,579 INFO sqlalchemy.engine.Engine [generated in 0.00137s] {'id': 1}\n",
      "2024-06-10 18:01:14,950 INFO sqlalchemy.engine.Engine COMMIT\n"
     ]
    }
   ],
   "source": [
    "db.delete(myprogram1)\n",
    "\n",
    "db.commit()"
   ]
  }
 ],
 "metadata": {
  "kernelspec": {
   "display_name": "myenv3_12",
   "language": "python",
   "name": "python3"
  },
  "language_info": {
   "codemirror_mode": {
    "name": "ipython",
    "version": 3
   },
   "file_extension": ".py",
   "mimetype": "text/x-python",
   "name": "python",
   "nbconvert_exporter": "python",
   "pygments_lexer": "ipython3",
   "version": "3.12.0"
  }
 },
 "nbformat": 4,
 "nbformat_minor": 2
}
