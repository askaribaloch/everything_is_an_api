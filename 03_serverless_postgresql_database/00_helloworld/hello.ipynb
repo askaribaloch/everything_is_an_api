{
 "cells": [
  {
   "cell_type": "markdown",
   "metadata": {},
   "source": [
    "# Connect an SQLAlchemy application to Neon\n",
    "\n",
    "https://neon.tech/docs/guides/sqlalchemy\n",
    "\n",
    "Code: \n",
    "\n",
    "https://neon.tech/docs/guides/sqlalchemy#create-an-sqlalchemy-engine-for-your-neon-project\n"
   ]
  },
  {
   "cell_type": "code",
   "execution_count": 32,
   "metadata": {},
   "outputs": [],
   "source": [
    "# load environment variables from .env file\n",
    "from dotenv import load_dotenv, find_dotenv\n",
    "_ : bool = load_dotenv(find_dotenv()) # read local .env file\n",
    "import os\n",
    "# print environment variables\n",
    "\n",
    "conn_str = os.environ.get('neon_db_con_str')\n"
   ]
  },
  {
   "cell_type": "markdown",
   "metadata": {},
   "source": [
    "# Establishing Connectivity - the Engine\n",
    "\n",
    "https://docs.sqlalchemy.org/en/20/tutorial/engine.html"
   ]
  },
  {
   "cell_type": "markdown",
   "metadata": {},
   "source": [
    "### Get the Connection String\n",
    "\n",
    "Create a new project: https://console.neon.tech/app/projects/\n",
    "\n",
    "Select the new project, and go to Dashboad and copy connection string from here:\n",
    "\n",
    "![Where to Copy Connection String From](connection_string.png)"
   ]
  },
  {
   "cell_type": "code",
   "execution_count": 43,
   "metadata": {},
   "outputs": [
    {
     "name": "stdout",
     "output_type": "stream",
     "text": [
      "[]\n"
     ]
    }
   ],
   "source": [
    "from sqlalchemy import create_engine\n",
    "dir(create_engine)"
   ]
  },
  {
   "cell_type": "code",
   "execution_count": 45,
   "metadata": {},
   "outputs": [
    {
     "name": "stdout",
     "output_type": "stream",
     "text": [
      "(url: 'Union[str, _url.URL]', **kwargs: 'Any') -> 'Engine'\n"
     ]
    }
   ],
   "source": [
    "import inspect\n",
    "\n",
    "def get_fucntion_params(func):\n",
    "    # Get all the members of the class that are methods\n",
    "    all_members = inspect.signature(func)\n",
    "    # Filter out methods that start with double underscores\n",
    "    return all_members\n",
    "\n",
    "print(get_fucntion_params(create_engine))"
   ]
  },
  {
   "cell_type": "code",
   "execution_count": 34,
   "metadata": {},
   "outputs": [],
   "source": [
    "from sqlalchemy.engine.base import Engine  # Engine is type\n",
    "\n",
    "engine: Engine = create_engine(conn_str)"
   ]
  },
  {
   "cell_type": "code",
   "execution_count": 52,
   "metadata": {},
   "outputs": [
    {
     "name": "stdout",
     "output_type": "stream",
     "text": [
      "<class 'type'>\n",
      "<class 'function'>\n"
     ]
    }
   ],
   "source": [
    "print(type(Engine))\n",
    "print(type(create_engine))"
   ]
  },
  {
   "cell_type": "markdown",
   "metadata": {},
   "source": [
    "# Getting a Connection\n",
    "\n",
    "https://docs.sqlalchemy.org/en/20/tutorial/dbapi_transactions.html#getting-a-connection\n"
   ]
  },
  {
   "cell_type": "code",
   "execution_count": 35,
   "metadata": {},
   "outputs": [
    {
     "name": "stdout",
     "output_type": "stream",
     "text": [
      "[('hello world',)]\n"
     ]
    }
   ],
   "source": [
    "from sqlalchemy import text\n",
    "\n",
    "with engine.connect() as conn:\n",
    "    result = conn.execute(text(\"select 'hello world'\"))\n",
    "    print(result.all())"
   ]
  },
  {
   "cell_type": "code",
   "execution_count": null,
   "metadata": {},
   "outputs": [],
   "source": []
  }
 ],
 "metadata": {
  "kernelspec": {
   "display_name": "myenv3_12",
   "language": "python",
   "name": "python3"
  },
  "language_info": {
   "codemirror_mode": {
    "name": "ipython",
    "version": 3
   },
   "file_extension": ".py",
   "mimetype": "text/x-python",
   "name": "python",
   "nbconvert_exporter": "python",
   "pygments_lexer": "ipython3",
   "version": "3.12.0"
  }
 },
 "nbformat": 4,
 "nbformat_minor": 2
}
